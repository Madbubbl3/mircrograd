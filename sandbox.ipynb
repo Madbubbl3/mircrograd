{
 "cells": [
  {
   "cell_type": "code",
   "execution_count": 99,
   "metadata": {},
   "outputs": [],
   "source": [
    "class Value:\n",
    "    \n",
    "    def __init__(self, value, inputs = (), op = \"\", label = \"\"):\n",
    "        self.value = value\n",
    "        self.predecesors = set(inputs)\n",
    "        self.op = op\n",
    "        self.grad = 0\n",
    "        self.label = label\n",
    "        self.backward = lambda: None\n",
    "        \n",
    "    def __repr__(self) -> str:\n",
    "        return (f\"value of {self.label} = {self.value}; gradient = {self.grad}\")\n",
    "    \n",
    "    def __add__(self, other):\n",
    "        \n",
    "        # calculate the gradient for addition\n",
    "        def backward():\n",
    "            self.grad = out.grad\n",
    "            other.grad = out.grad\n",
    "        \n",
    "        # calculate the output of operation and assign it's local gradient \n",
    "        out =  Value(value = self.value + other.value, inputs=(self, other), op = \"+\")\n",
    "        out.backward = backward\n",
    "        \n",
    "        #return the value\n",
    "        return out\n",
    "    \n",
    "    def __mul__(self, other):\n",
    "        \n",
    "        # calculate the _gradient for multiplication\n",
    "        def backward():\n",
    "            self.grad = out.grad * other.value\n",
    "            other.grad = out.grad * self.value\n",
    "        \n",
    "        # calculate the outpout of the operation and assign it it's respective backward function\n",
    "        out = Value(value = self.value * other.value, inputs=(self, other), op = \"*\")\n",
    "        out.backward = backward\n",
    "        \n",
    "        # return the output\n",
    "        return out\n",
    "    \n",
    "    def backPropagation(self):\n",
    "        '''\n",
    "        Start the backpropagation from this node\n",
    "        '''\n",
    "        \n",
    "        # set the gradient of this node to 1\n",
    "        self.grad = 1\n",
    "        \n",
    "        # build a helper function to create the topological sorting of the graph\n",
    "        def topologicalSorting(node):\n",
    "            # create local variable\n",
    "            L = []\n",
    "            s = set()\n",
    "            \n",
    "            # recursive sorting\n",
    "            def topo(node:Value):\n",
    "                if node not in s:\n",
    "                    s.add(node)\n",
    "                    for parent in node.predecesors:\n",
    "                        topo(parent)\n",
    "                    L.append(node)\n",
    "            topo(node)\n",
    "            return L\n",
    "        \n",
    "        # call the backward method on each node, starting from the last one\n",
    "        for node in topologicalSorting(self)[::-1]:\n",
    "            node.backward()\n",
    "        "
   ]
  },
  {
   "cell_type": "code",
   "execution_count": 103,
   "metadata": {},
   "outputs": [
    {
     "data": {
      "text/plain": [
       "-3"
      ]
     },
     "execution_count": 103,
     "metadata": {},
     "output_type": "execute_result"
    }
   ],
   "source": [
    "a = Value(2, label=\"a\")\n",
    "b = Value(-3, label=\"b\")\n",
    "c = a + b; c.label=\"c\"\n",
    "d = c * b; d.label = \"d\"\n",
    "\n",
    "d.backPropagation()\n",
    "\n",
    "c.grad"
   ]
  }
 ],
 "metadata": {
  "kernelspec": {
   "display_name": ".local",
   "language": "python",
   "name": "python3"
  },
  "language_info": {
   "codemirror_mode": {
    "name": "ipython",
    "version": 3
   },
   "file_extension": ".py",
   "mimetype": "text/x-python",
   "name": "python",
   "nbconvert_exporter": "python",
   "pygments_lexer": "ipython3",
   "version": "3.10.7"
  },
  "orig_nbformat": 4,
  "vscode": {
   "interpreter": {
    "hash": "1b96e727caf5524a9cd8cd4ee689445c7ed1c41da43388069e7b8824d5273db4"
   }
  }
 },
 "nbformat": 4,
 "nbformat_minor": 2
}
