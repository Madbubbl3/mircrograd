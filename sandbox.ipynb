{
 "cells": [
  {
   "cell_type": "code",
   "execution_count": 95,
   "metadata": {},
   "outputs": [],
   "source": [
    "class Value:\n",
    "    \n",
    "    def __init__(self, value, inputs = (), op = \"\", label = \"\"):\n",
    "        self._value = value\n",
    "        self._predecesors = set(inputs)\n",
    "        self._op = op\n",
    "        self._grad = 0\n",
    "        self._label = label\n",
    "        self.backward = lambda: None\n",
    "        \n",
    "    def __repr__(self) -> str:\n",
    "        return (f\"value of {self._label} = {self._value}; _gradient = {self._grad}\")\n",
    "    \n",
    "    def __add__(self, other):\n",
    "        \n",
    "        # calculate the gradient for addition\n",
    "        def backward():\n",
    "            self._grad = out._grad\n",
    "            other._grad = out._grad\n",
    "        \n",
    "        # calculate the output of operation and assign it's local _gradient \n",
    "        out =  Value(value = self._value + other._value, inputs=(self, other), op = \"+\")\n",
    "        out.backward = backward\n",
    "        \n",
    "        #return the value\n",
    "        return out\n",
    "    \n",
    "    def __mul__(self, other):\n",
    "        \n",
    "        # calculate the _gradient for multiplication\n",
    "        def backward():\n",
    "            self._grad = out._grad * other._value\n",
    "            other._grad = out._grad * self._value\n",
    "        \n",
    "        # calculate the outpout of the operation and assign it it's respective backward function\n",
    "        out = Value(value = self._value * other._value, inputs=(self, other), op = \"*\")\n",
    "        out.backward = backward\n",
    "        \n",
    "        # return the output\n",
    "        return out\n",
    "    \n",
    "    def backPropagation(self):\n",
    "        '''\n",
    "        Start the backpropagation from this node\n",
    "        '''\n",
    "        \n",
    "        # set the gradient of this node to 1\n",
    "        self._grad = 1\n",
    "        \n",
    "        # build a helper function to create the topological sorting of the graph\n",
    "        def topologicalSorting(node):\n",
    "            # create local variable\n",
    "            L = []\n",
    "            s = set()\n",
    "            \n",
    "            # recursive sorting\n",
    "            def topo(node:Value):\n",
    "                if node not in s:\n",
    "                    s.add(node)\n",
    "                    for parent in node._predecesors:\n",
    "                        topo(parent)\n",
    "                    L.append(node)\n",
    "            topo(node)\n",
    "            return L\n",
    "        \n",
    "        # call the backward method on each node, starting from the last one\n",
    "        for node in topologicalSorting(self)[::-1]:\n",
    "            node.backward()\n",
    "        "
   ]
  },
  {
   "cell_type": "code",
   "execution_count": 96,
   "metadata": {},
   "outputs": [],
   "source": [
    "a = Value(2, label=\"a\")\n",
    "b = Value(-3, label=\"b\")\n",
    "c = a + b; c._label=\"c\"\n",
    "d = c * b; d._label = \"d\""
   ]
  },
  {
   "cell_type": "code",
   "execution_count": 98,
   "metadata": {},
   "outputs": [
    {
     "data": {
      "text/plain": [
       "-3"
      ]
     },
     "execution_count": 98,
     "metadata": {},
     "output_type": "execute_result"
    }
   ],
   "source": [
    "d.backPropagation()\n"
   ]
  },
  {
   "cell_type": "code",
   "execution_count": 50,
   "metadata": {},
   "outputs": [
    {
     "data": {
      "text/plain": [
       "1"
      ]
     },
     "execution_count": 50,
     "metadata": {},
     "output_type": "execute_result"
    }
   ],
   "source": [
    "c.grad"
   ]
  },
  {
   "cell_type": "code",
   "execution_count": 76,
   "metadata": {},
   "outputs": [
    {
     "name": "stdout",
     "output_type": "stream",
     "text": [
      "[3, 2, 1]\n"
     ]
    }
   ],
   "source": [
    "revList = [1,2,3]\n",
    "revList = revList[::-1]\n",
    "print(revList)"
   ]
  },
  {
   "cell_type": "code",
   "execution_count": null,
   "metadata": {},
   "outputs": [],
   "source": []
  }
 ],
 "metadata": {
  "kernelspec": {
   "display_name": ".local",
   "language": "python",
   "name": "python3"
  },
  "language_info": {
   "codemirror_mode": {
    "name": "ipython",
    "version": 3
   },
   "file_extension": ".py",
   "mimetype": "text/x-python",
   "name": "python",
   "nbconvert_exporter": "python",
   "pygments_lexer": "ipython3",
   "version": "3.10.7"
  },
  "orig_nbformat": 4,
  "vscode": {
   "interpreter": {
    "hash": "1b96e727caf5524a9cd8cd4ee689445c7ed1c41da43388069e7b8824d5273db4"
   }
  }
 },
 "nbformat": 4,
 "nbformat_minor": 2
}
