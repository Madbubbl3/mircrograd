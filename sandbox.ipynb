{
 "cells": [
  {
   "cell_type": "code",
   "execution_count": 17,
   "metadata": {},
   "outputs": [],
   "source": [
    "class Value:\n",
    "    \n",
    "    def __init__(self, value, inputs = (), op = \"\", label = \"\"):\n",
    "        self.value = value\n",
    "        self.predecesors = set(inputs)\n",
    "        self.op = op\n",
    "        self.grad = 0\n",
    "        self.label = label\n",
    "        self.backward = lambda: None\n",
    "        \n",
    "    def __repr__(self) -> str:\n",
    "        return (f\"value={self.value}\")\n",
    "    \n",
    "    def __add__(self, other):\n",
    "        \n",
    "        # calculate the gradient for addition\n",
    "        def backward():\n",
    "            self.grad = out.grad\n",
    "            other.grad = out.grad\n",
    "        \n",
    "        # calculate the output of operation and assign it's local gradient \n",
    "        out =  Value(value = self.value + other.value, inputs=(self, other), op = \"+\")\n",
    "        out.backward = backward\n",
    "        \n",
    "        #return the value\n",
    "        return out\n",
    "    \n",
    "    def __mul__(self, other):\n",
    "        return Value(value = self.value * other.value, inputs=(self, other), op = \"*\")"
   ]
  },
  {
   "cell_type": "code",
   "execution_count": 18,
   "metadata": {},
   "outputs": [],
   "source": [
    "a = Value(2)\n",
    "b = Value(-3)\n",
    "c = a + b\n",
    "\n"
   ]
  },
  {
   "cell_type": "code",
   "execution_count": 22,
   "metadata": {},
   "outputs": [
    {
     "data": {
      "text/plain": [
       "1"
      ]
     },
     "execution_count": 22,
     "metadata": {},
     "output_type": "execute_result"
    }
   ],
   "source": [
    "c.grad = 1\n",
    "c.backward()\n",
    "b.grad"
   ]
  },
  {
   "cell_type": "code",
   "execution_count": null,
   "metadata": {},
   "outputs": [],
   "source": []
  }
 ],
 "metadata": {
  "kernelspec": {
   "display_name": ".local",
   "language": "python",
   "name": "python3"
  },
  "language_info": {
   "codemirror_mode": {
    "name": "ipython",
    "version": 3
   },
   "file_extension": ".py",
   "mimetype": "text/x-python",
   "name": "python",
   "nbconvert_exporter": "python",
   "pygments_lexer": "ipython3",
   "version": "3.10.7"
  },
  "orig_nbformat": 4,
  "vscode": {
   "interpreter": {
    "hash": "1b96e727caf5524a9cd8cd4ee689445c7ed1c41da43388069e7b8824d5273db4"
   }
  }
 },
 "nbformat": 4,
 "nbformat_minor": 2
}
